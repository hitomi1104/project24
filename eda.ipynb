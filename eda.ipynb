{
 "cells": [
  {
   "cell_type": "code",
   "execution_count": 1,
   "id": "74de7b80",
   "metadata": {},
   "outputs": [],
   "source": [
    "# imports\n",
    "\n",
    "import pandas as pd\n",
    "import matplotlib.pyplot as plt\n",
    "import numpy as np\n",
    "import seaborn as sns\n",
    "\n",
    "data_dict = pd.read_csv(\"data/datadict.csv\")\n",
    "df = pd.read_csv(\"data/DataCoSupplyChainDataset.csv\", encoding='ISO-8859-1')"
   ]
  },
  {
   "cell_type": "markdown",
   "id": "585c01bb",
   "metadata": {},
   "source": [
    "### data cleaning"
   ]
  },
  {
   "cell_type": "code",
   "execution_count": 2,
   "id": "e4d474f8",
   "metadata": {},
   "outputs": [
    {
     "data": {
      "text/plain": [
       "Index(['Type', 'Days for shipping (real)', 'Days for shipment (scheduled)',\n",
       "       'Benefit per order', 'Sales per customer', 'Delivery Status',\n",
       "       'Late_delivery_risk', 'Category Id', 'Category Name', 'Customer City',\n",
       "       'Customer Country', 'Customer Email', 'Customer Fname', 'Customer Id',\n",
       "       'Customer Lname', 'Customer Password', 'Customer Segment',\n",
       "       'Customer State', 'Customer Street', 'Customer Zipcode',\n",
       "       'Department Id', 'Department Name', 'Latitude', 'Longitude', 'Market',\n",
       "       'Order City', 'Order Country', 'Order Customer Id',\n",
       "       'order date (DateOrders)', 'Order Id', 'Order Item Cardprod Id',\n",
       "       'Order Item Discount', 'Order Item Discount Rate', 'Order Item Id',\n",
       "       'Order Item Product Price', 'Order Item Profit Ratio',\n",
       "       'Order Item Quantity', 'Sales', 'Order Item Total',\n",
       "       'Order Profit Per Order', 'Order Region', 'Order State', 'Order Status',\n",
       "       'Order Zipcode', 'Product Card Id', 'Product Category Id',\n",
       "       'Product Description', 'Product Image', 'Product Name', 'Product Price',\n",
       "       'Product Status', 'shipping date (DateOrders)', 'Shipping Mode'],\n",
       "      dtype='object')"
      ]
     },
     "execution_count": 2,
     "metadata": {},
     "output_type": "execute_result"
    }
   ],
   "source": [
    "df.columns"
   ]
  },
  {
   "cell_type": "code",
   "execution_count": 3,
   "id": "c196d45e",
   "metadata": {},
   "outputs": [
    {
     "data": {
      "text/plain": [
       "(180519, 53)"
      ]
     },
     "execution_count": 3,
     "metadata": {},
     "output_type": "execute_result"
    }
   ],
   "source": [
    "df.shape"
   ]
  },
  {
   "cell_type": "code",
   "execution_count": 4,
   "id": "798de527",
   "metadata": {},
   "outputs": [],
   "source": [
    "# List of columns to drop\n",
    "columns_to_drop = ['Category Id', 'Customer Email', 'Customer Fname',\n",
    "       'Customer Lname', 'Customer Password', 'Customer Zipcode', 'Department Id', 'Order Item Id',\n",
    "                  'Product Image', 'Order Zipcode', 'Customer Id', 'Customer Street','Order Customer Id',\n",
    "        'Order Id', 'Order Item Cardprod Id', 'Product Status', 'Late_delivery_risk'\n",
    "                  ]\n",
    "\n",
    "# Drop the specified columns\n",
    "df = df.drop(columns=columns_to_drop, axis=1)\n",
    "df.columns = df.columns.str.lower().str.replace(' ', '_')"
   ]
  },
  {
   "cell_type": "code",
   "execution_count": 5,
   "id": "ca8e3b3a",
   "metadata": {
    "scrolled": true
   },
   "outputs": [],
   "source": [
    "# df[\"Customer Lname\"].nunique()\n",
    "\n",
    "# for i in df.columns:\n",
    "#     print(i)\n",
    "#     print(df[i].nunique())\n",
    "#     print()\n",
    "    "
   ]
  },
  {
   "cell_type": "code",
   "execution_count": 6,
   "id": "bb26e86d",
   "metadata": {},
   "outputs": [],
   "source": [
    "df['customer_country'] = df['customer_country'].replace('EE. UU.', 'US')\n",
    "\n",
    "df['order_date_(dateorders)'] = pd.to_datetime(df['order_date_(dateorders)'])\n",
    "df['shipping_date_(dateorders)'] = pd.to_datetime(df['shipping_date_(dateorders)'])\n",
    "\n",
    "# Remove parentheses from column names\n",
    "df = df.rename(columns=lambda x: x.replace('(', '').replace(')', ''))\n",
    "\n",
    "\n",
    "\n",
    "\n",
    "columns_to_drop = ['product_card_id', 'product_category_id']\n",
    "df = df.drop(columns=columns_to_drop, axis=1)"
   ]
  },
  {
   "cell_type": "code",
   "execution_count": 7,
   "id": "97ac7557",
   "metadata": {
    "scrolled": true
   },
   "outputs": [
    {
     "data": {
      "text/html": [
       "<div>\n",
       "<style scoped>\n",
       "    .dataframe tbody tr th:only-of-type {\n",
       "        vertical-align: middle;\n",
       "    }\n",
       "\n",
       "    .dataframe tbody tr th {\n",
       "        vertical-align: top;\n",
       "    }\n",
       "\n",
       "    .dataframe thead th {\n",
       "        text-align: right;\n",
       "    }\n",
       "</style>\n",
       "<table border=\"1\" class=\"dataframe\">\n",
       "  <thead>\n",
       "    <tr style=\"text-align: right;\">\n",
       "      <th></th>\n",
       "      <th>type</th>\n",
       "      <th>days_for_shipping_real</th>\n",
       "      <th>days_for_shipment_scheduled</th>\n",
       "      <th>benefit_per_order</th>\n",
       "      <th>sales_per_customer</th>\n",
       "      <th>delivery_status</th>\n",
       "      <th>category_name</th>\n",
       "      <th>customer_city</th>\n",
       "      <th>customer_country</th>\n",
       "      <th>customer_segment</th>\n",
       "      <th>...</th>\n",
       "      <th>order_item_total</th>\n",
       "      <th>order_profit_per_order</th>\n",
       "      <th>order_region</th>\n",
       "      <th>order_state</th>\n",
       "      <th>order_status</th>\n",
       "      <th>product_description</th>\n",
       "      <th>product_name</th>\n",
       "      <th>product_price</th>\n",
       "      <th>shipping_date_dateorders</th>\n",
       "      <th>shipping_mode</th>\n",
       "    </tr>\n",
       "  </thead>\n",
       "  <tbody>\n",
       "    <tr>\n",
       "      <th>0</th>\n",
       "      <td>DEBIT</td>\n",
       "      <td>3</td>\n",
       "      <td>4</td>\n",
       "      <td>91.250000</td>\n",
       "      <td>314.640015</td>\n",
       "      <td>Advance shipping</td>\n",
       "      <td>Sporting Goods</td>\n",
       "      <td>Caguas</td>\n",
       "      <td>Puerto Rico</td>\n",
       "      <td>Consumer</td>\n",
       "      <td>...</td>\n",
       "      <td>314.640015</td>\n",
       "      <td>91.250000</td>\n",
       "      <td>Southeast Asia</td>\n",
       "      <td>Java Occidental</td>\n",
       "      <td>COMPLETE</td>\n",
       "      <td>NaN</td>\n",
       "      <td>Smart watch</td>\n",
       "      <td>327.75</td>\n",
       "      <td>2018-02-03 22:56:00</td>\n",
       "      <td>Standard Class</td>\n",
       "    </tr>\n",
       "    <tr>\n",
       "      <th>1</th>\n",
       "      <td>TRANSFER</td>\n",
       "      <td>5</td>\n",
       "      <td>4</td>\n",
       "      <td>-249.089996</td>\n",
       "      <td>311.359985</td>\n",
       "      <td>Late delivery</td>\n",
       "      <td>Sporting Goods</td>\n",
       "      <td>Caguas</td>\n",
       "      <td>Puerto Rico</td>\n",
       "      <td>Consumer</td>\n",
       "      <td>...</td>\n",
       "      <td>311.359985</td>\n",
       "      <td>-249.089996</td>\n",
       "      <td>South Asia</td>\n",
       "      <td>Rajastán</td>\n",
       "      <td>PENDING</td>\n",
       "      <td>NaN</td>\n",
       "      <td>Smart watch</td>\n",
       "      <td>327.75</td>\n",
       "      <td>2018-01-18 12:27:00</td>\n",
       "      <td>Standard Class</td>\n",
       "    </tr>\n",
       "    <tr>\n",
       "      <th>2</th>\n",
       "      <td>CASH</td>\n",
       "      <td>4</td>\n",
       "      <td>4</td>\n",
       "      <td>-247.779999</td>\n",
       "      <td>309.720001</td>\n",
       "      <td>Shipping on time</td>\n",
       "      <td>Sporting Goods</td>\n",
       "      <td>San Jose</td>\n",
       "      <td>US</td>\n",
       "      <td>Consumer</td>\n",
       "      <td>...</td>\n",
       "      <td>309.720001</td>\n",
       "      <td>-247.779999</td>\n",
       "      <td>South Asia</td>\n",
       "      <td>Rajastán</td>\n",
       "      <td>CLOSED</td>\n",
       "      <td>NaN</td>\n",
       "      <td>Smart watch</td>\n",
       "      <td>327.75</td>\n",
       "      <td>2018-01-17 12:06:00</td>\n",
       "      <td>Standard Class</td>\n",
       "    </tr>\n",
       "    <tr>\n",
       "      <th>3</th>\n",
       "      <td>DEBIT</td>\n",
       "      <td>3</td>\n",
       "      <td>4</td>\n",
       "      <td>22.860001</td>\n",
       "      <td>304.809998</td>\n",
       "      <td>Advance shipping</td>\n",
       "      <td>Sporting Goods</td>\n",
       "      <td>Los Angeles</td>\n",
       "      <td>US</td>\n",
       "      <td>Home Office</td>\n",
       "      <td>...</td>\n",
       "      <td>304.809998</td>\n",
       "      <td>22.860001</td>\n",
       "      <td>Oceania</td>\n",
       "      <td>Queensland</td>\n",
       "      <td>COMPLETE</td>\n",
       "      <td>NaN</td>\n",
       "      <td>Smart watch</td>\n",
       "      <td>327.75</td>\n",
       "      <td>2018-01-16 11:45:00</td>\n",
       "      <td>Standard Class</td>\n",
       "    </tr>\n",
       "    <tr>\n",
       "      <th>4</th>\n",
       "      <td>PAYMENT</td>\n",
       "      <td>2</td>\n",
       "      <td>4</td>\n",
       "      <td>134.210007</td>\n",
       "      <td>298.250000</td>\n",
       "      <td>Advance shipping</td>\n",
       "      <td>Sporting Goods</td>\n",
       "      <td>Caguas</td>\n",
       "      <td>Puerto Rico</td>\n",
       "      <td>Corporate</td>\n",
       "      <td>...</td>\n",
       "      <td>298.250000</td>\n",
       "      <td>134.210007</td>\n",
       "      <td>Oceania</td>\n",
       "      <td>Queensland</td>\n",
       "      <td>PENDING_PAYMENT</td>\n",
       "      <td>NaN</td>\n",
       "      <td>Smart watch</td>\n",
       "      <td>327.75</td>\n",
       "      <td>2018-01-15 11:24:00</td>\n",
       "      <td>Standard Class</td>\n",
       "    </tr>\n",
       "  </tbody>\n",
       "</table>\n",
       "<p>5 rows × 34 columns</p>\n",
       "</div>"
      ],
      "text/plain": [
       "       type  days_for_shipping_real  days_for_shipment_scheduled  \\\n",
       "0     DEBIT                       3                            4   \n",
       "1  TRANSFER                       5                            4   \n",
       "2      CASH                       4                            4   \n",
       "3     DEBIT                       3                            4   \n",
       "4   PAYMENT                       2                            4   \n",
       "\n",
       "   benefit_per_order  sales_per_customer   delivery_status   category_name  \\\n",
       "0          91.250000          314.640015  Advance shipping  Sporting Goods   \n",
       "1        -249.089996          311.359985     Late delivery  Sporting Goods   \n",
       "2        -247.779999          309.720001  Shipping on time  Sporting Goods   \n",
       "3          22.860001          304.809998  Advance shipping  Sporting Goods   \n",
       "4         134.210007          298.250000  Advance shipping  Sporting Goods   \n",
       "\n",
       "  customer_city customer_country customer_segment  ... order_item_total  \\\n",
       "0        Caguas      Puerto Rico         Consumer  ...       314.640015   \n",
       "1        Caguas      Puerto Rico         Consumer  ...       311.359985   \n",
       "2      San Jose               US         Consumer  ...       309.720001   \n",
       "3   Los Angeles               US      Home Office  ...       304.809998   \n",
       "4        Caguas      Puerto Rico        Corporate  ...       298.250000   \n",
       "\n",
       "  order_profit_per_order    order_region      order_state     order_status  \\\n",
       "0              91.250000  Southeast Asia  Java Occidental         COMPLETE   \n",
       "1            -249.089996      South Asia         Rajastán          PENDING   \n",
       "2            -247.779999      South Asia         Rajastán           CLOSED   \n",
       "3              22.860001         Oceania       Queensland         COMPLETE   \n",
       "4             134.210007         Oceania       Queensland  PENDING_PAYMENT   \n",
       "\n",
       "  product_description  product_name product_price  shipping_date_dateorders  \\\n",
       "0                 NaN  Smart watch         327.75       2018-02-03 22:56:00   \n",
       "1                 NaN  Smart watch         327.75       2018-01-18 12:27:00   \n",
       "2                 NaN  Smart watch         327.75       2018-01-17 12:06:00   \n",
       "3                 NaN  Smart watch         327.75       2018-01-16 11:45:00   \n",
       "4                 NaN  Smart watch         327.75       2018-01-15 11:24:00   \n",
       "\n",
       "    shipping_mode  \n",
       "0  Standard Class  \n",
       "1  Standard Class  \n",
       "2  Standard Class  \n",
       "3  Standard Class  \n",
       "4  Standard Class  \n",
       "\n",
       "[5 rows x 34 columns]"
      ]
     },
     "execution_count": 7,
     "metadata": {},
     "output_type": "execute_result"
    }
   ],
   "source": [
    "df.iloc[:, 0:].head()"
   ]
  },
  {
   "cell_type": "code",
   "execution_count": 8,
   "id": "0ece5830",
   "metadata": {},
   "outputs": [
    {
     "data": {
      "text/plain": [
       "Index(['type', 'days_for_shipping_real', 'days_for_shipment_scheduled',\n",
       "       'benefit_per_order', 'sales_per_customer', 'delivery_status',\n",
       "       'category_name', 'customer_city', 'customer_country',\n",
       "       'customer_segment', 'customer_state', 'department_name', 'latitude',\n",
       "       'longitude', 'market', 'order_city', 'order_country',\n",
       "       'order_date_dateorders', 'order_item_discount',\n",
       "       'order_item_discount_rate', 'order_item_product_price',\n",
       "       'order_item_profit_ratio', 'order_item_quantity', 'sales',\n",
       "       'order_item_total', 'order_profit_per_order', 'order_region',\n",
       "       'order_state', 'order_status', 'product_description', 'product_name',\n",
       "       'product_price', 'shipping_date_dateorders', 'shipping_mode'],\n",
       "      dtype='object')"
      ]
     },
     "execution_count": 8,
     "metadata": {},
     "output_type": "execute_result"
    }
   ],
   "source": [
    "df.columns"
   ]
  },
  {
   "cell_type": "code",
   "execution_count": 10,
   "id": "8ae2cb23",
   "metadata": {},
   "outputs": [
    {
     "name": "stdout",
     "output_type": "stream",
     "text": [
      "<class 'pandas.core.frame.DataFrame'>\n",
      "RangeIndex: 180519 entries, 0 to 180518\n",
      "Data columns (total 34 columns):\n",
      " #   Column                       Non-Null Count   Dtype         \n",
      "---  ------                       --------------   -----         \n",
      " 0   type                         180519 non-null  object        \n",
      " 1   days_for_shipping_real       180519 non-null  int64         \n",
      " 2   days_for_shipment_scheduled  180519 non-null  int64         \n",
      " 3   benefit_per_order            180519 non-null  float64       \n",
      " 4   sales_per_customer           180519 non-null  float64       \n",
      " 5   delivery_status              180519 non-null  object        \n",
      " 6   category_name                180519 non-null  object        \n",
      " 7   customer_city                180519 non-null  object        \n",
      " 8   customer_country             180519 non-null  object        \n",
      " 9   customer_segment             180519 non-null  object        \n",
      " 10  customer_state               180519 non-null  object        \n",
      " 11  department_name              180519 non-null  object        \n",
      " 12  latitude                     180519 non-null  float64       \n",
      " 13  longitude                    180519 non-null  float64       \n",
      " 14  market                       180519 non-null  object        \n",
      " 15  order_city                   180519 non-null  object        \n",
      " 16  order_country                180519 non-null  object        \n",
      " 17  order_date_dateorders        180519 non-null  datetime64[ns]\n",
      " 18  order_item_discount          180519 non-null  float64       \n",
      " 19  order_item_discount_rate     180519 non-null  float64       \n",
      " 20  order_item_product_price     180519 non-null  float64       \n",
      " 21  order_item_profit_ratio      180519 non-null  float64       \n",
      " 22  order_item_quantity          180519 non-null  int64         \n",
      " 23  sales                        180519 non-null  float64       \n",
      " 24  order_item_total             180519 non-null  float64       \n",
      " 25  order_profit_per_order       180519 non-null  float64       \n",
      " 26  order_region                 180519 non-null  object        \n",
      " 27  order_state                  180519 non-null  object        \n",
      " 28  order_status                 180519 non-null  object        \n",
      " 29  product_description          0 non-null       float64       \n",
      " 30  product_name                 180519 non-null  object        \n",
      " 31  product_price                180519 non-null  float64       \n",
      " 32  shipping_date_dateorders     180519 non-null  datetime64[ns]\n",
      " 33  shipping_mode                180519 non-null  object        \n",
      "dtypes: datetime64[ns](2), float64(13), int64(3), object(16)\n",
      "memory usage: 46.8+ MB\n"
     ]
    }
   ],
   "source": [
    "df.info()"
   ]
  },
  {
   "cell_type": "code",
   "execution_count": 12,
   "id": "dcdd8221",
   "metadata": {},
   "outputs": [],
   "source": [
    "df.to_csv(\"data/data_clean.csv\")"
   ]
  },
  {
   "cell_type": "code",
   "execution_count": null,
   "id": "1457c9d7",
   "metadata": {},
   "outputs": [],
   "source": []
  },
  {
   "cell_type": "code",
   "execution_count": null,
   "id": "ed23f825",
   "metadata": {},
   "outputs": [],
   "source": []
  }
 ],
 "metadata": {
  "kernelspec": {
   "display_name": "Python 3 (ipykernel)",
   "language": "python",
   "name": "python3"
  },
  "language_info": {
   "codemirror_mode": {
    "name": "ipython",
    "version": 3
   },
   "file_extension": ".py",
   "mimetype": "text/x-python",
   "name": "python",
   "nbconvert_exporter": "python",
   "pygments_lexer": "ipython3",
   "version": "3.9.12"
  },
  "toc": {
   "base_numbering": 1,
   "nav_menu": {},
   "number_sections": true,
   "sideBar": true,
   "skip_h1_title": false,
   "title_cell": "Table of Contents",
   "title_sidebar": "Contents",
   "toc_cell": false,
   "toc_position": {},
   "toc_section_display": true,
   "toc_window_display": false
  },
  "varInspector": {
   "cols": {
    "lenName": 16,
    "lenType": 16,
    "lenVar": 40
   },
   "kernels_config": {
    "python": {
     "delete_cmd_postfix": "",
     "delete_cmd_prefix": "del ",
     "library": "var_list.py",
     "varRefreshCmd": "print(var_dic_list())"
    },
    "r": {
     "delete_cmd_postfix": ") ",
     "delete_cmd_prefix": "rm(",
     "library": "var_list.r",
     "varRefreshCmd": "cat(var_dic_list()) "
    }
   },
   "types_to_exclude": [
    "module",
    "function",
    "builtin_function_or_method",
    "instance",
    "_Feature"
   ],
   "window_display": false
  }
 },
 "nbformat": 4,
 "nbformat_minor": 5
}
